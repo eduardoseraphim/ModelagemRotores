{
 "cells": [
  {
   "cell_type": "markdown",
   "metadata": {},
   "source": [
    "# Integração numérica"
   ]
  },
  {
   "cell_type": "markdown",
   "metadata": {},
   "source": [
    "Pare encontrarmos a solução no tempo da equação $ m\\ddot{x}(t) + c\\dot{x}(t) + kx(t) = f(t)$ iremos utilizar a função odeint do scipy."
   ]
  },
  {
   "cell_type": "markdown",
   "metadata": {},
   "source": [
    "Vendo o help da função odeint (scipy.integrate.odeint?):\n",
    "```\n",
    "scipy.integrate.odeint(func, y0, t,...)\n",
    "\n",
    "Parameters:\t\n",
    "func : callable(y, t0, ...)\n",
    "\n",
    "Computes the derivative of y at t0.\n",
    "\n",
    "y0 : array\n",
    "\n",
    "Initial condition on y (can be a vector).\n",
    "\n",
    "t : array\n",
    "\n",
    "A sequence of time points for which to solve for y. The initial value point should be the first element of this sequence.\n",
    "```"
   ]
  },
  {
   "cell_type": "markdown",
   "metadata": {},
   "source": [
    "Observando o help também notamos:\n",
    "> Solves the initial value problem for stiff or non-stiff systems of _**first order**_ ode-s:\n",
    "\n",
    "Para transformamos a equação de segunda ordem em um sistema de primeira ordem utilizamos as variáveis $x_1 = x(t)$ e $x_2 = \\dot{x}(t)$."
   ]
  },
  {
   "cell_type": "markdown",
   "metadata": {},
   "source": [
    "\\begin{equation}\n",
    "m\\ddot{x}(t) + c\\dot{x}(t) + kx(t) = f(t)\\\\\n",
    "\\downarrow\\\\\n",
    "\\dot{x}_1(t) = x_2(t)\\\\\n",
    "\\dot{x}_2(t) = \\frac{f(t)}{m} -\\frac{c}{m}\\ x_2(t) - \\frac{k}{m}\\ x_1(t)\n",
    "\\end{equation}"
   ]
  },
  {
   "cell_type": "markdown",
   "metadata": {},
   "source": [
    "Esse sistema pode ser descrito com matrizes:\n",
    "\\begin{equation}\n",
    "{\\bf A} = \n",
    "\\left[ \\matrix{\n",
    "0 & 1 \\\\\n",
    "-\\frac{k}{m} & -\\frac{c}{m}  \\\\\n",
    "} \\right] \\ \\ \\ \\ \\ \n",
    "{\\bf x}(t) = \n",
    "\\left[ \\matrix{\n",
    "x_1(t) \\\\\n",
    "x_2(t) \\\\\n",
    "} \\right] \\\\\n",
    "\\\\\n",
    "\\\n",
    "\\\\\n",
    "\\dot{\\bf x}(t) = A{\\bf x}(t)\n",
    "\\end{equation}"
   ]
  },
  {
   "cell_type": "code",
   "execution_count": 1,
   "metadata": {
    "collapsed": false
   },
   "outputs": [],
   "source": [
    "import scipy as sp\n",
    "from scipy.integrate import odeint\n",
    "import matplotlib.pyplot as plt\n",
    "%matplotlib inline"
   ]
  },
  {
   "cell_type": "markdown",
   "metadata": {},
   "source": [
    "### Escrever a função que calcula a derivada de x em t:"
   ]
  },
  {
   "cell_type": "code",
   "execution_count": 2,
   "metadata": {
    "collapsed": true
   },
   "outputs": [],
   "source": [
    "def func(x, t):\n",
    "  \n",
    "    m=100\n",
    "    c=200\n",
    "    k=2000\n",
    "    w = 10\n",
    "    F0 = 150\n",
    "    \n",
    "    # definir x1 e x2:\n",
    "    [x1,x2] = x\n",
    "    \n",
    "    # calcular dxdt utilizando a função cos como forçamento (F0*sp.cos)\n",
    "    dxdt = [x2, F0*sp.cos(w*t)/m - c*x2/m-k*x1/m]\n",
    "    \n",
    "    return dxdt"
   ]
  },
  {
   "cell_type": "markdown",
   "metadata": {},
   "source": [
    "### Determinar condições iniciais e o intervalo de tempo:"
   ]
  },
  {
   "cell_type": "code",
   "execution_count": 3,
   "metadata": {
    "collapsed": false
   },
   "outputs": [],
   "source": [
    "# Condições iniciais\n",
    "x0=0.01\n",
    "v0=0.1\n",
    "\n",
    "#Criar array com condições iniciais\n",
    "z0 = [x0, v0]\n",
    "\n",
    "# Criar array com o tempo\n",
    "tf = 6\n",
    "t = sp.linspace(0, tf, 1000)"
   ]
  },
  {
   "cell_type": "markdown",
   "metadata": {},
   "source": [
    "### Calcular a solução"
   ]
  },
  {
   "cell_type": "code",
   "execution_count": 7,
   "metadata": {
    "collapsed": true
   },
   "outputs": [],
   "source": [
    "sol = odeint(func, z0, t)"
   ]
  },
  {
   "cell_type": "markdown",
   "metadata": {},
   "source": [
    "### Plotar solução deslocamento x tempo:"
   ]
  },
  {
   "cell_type": "code",
   "execution_count": 17,
   "metadata": {
    "collapsed": false
   },
   "outputs": [
    {
     "data": {
      "text/plain": [
       "<matplotlib.text.Text at 0x1b64d1b2a20>"
      ]
     },
     "execution_count": 17,
     "metadata": {},
     "output_type": "execute_result"
    },
    {
     "data": {
      "image/png": "[encoded data removed]",
      "text/plain": [
       "<matplotlib.figure.Figure at 0x1b64d2a15c0>"
      ]
     },
     "metadata": {},
     "output_type": "display_data"
    }
   ],
   "source": [
    "plt.plot(t, sol, label='x1(t)')\n",
    "plt.legend()\n",
    "plt.xlabel('t')"
   ]
  },
  {
   "cell_type": "markdown",
   "metadata": {},
   "source": [
    "### Plotar solução velocidade x tempo:"
   ]
  },
  {
   "cell_type": "code",
   "execution_count": 39,
   "metadata": {
    "collapsed": false
   },
   "outputs": [
    {
     "data": {
      "text/plain": [
       "<matplotlib.text.Text at 0x9f60710>"
      ]
     },
     "execution_count": 39,
     "metadata": {},
     "output_type": "execute_result"
    },
    {
     "data": {
      "image/png": "[encoded data removed]",
      "text/plain": [
       "<matplotlib.figure.Figure at 0xa03d5f8>"
      ]
     },
     "metadata": {},
     "output_type": "display_data"
    }
   ],
   "source": [
    "plt.plot(???, label='x2(t)')\n",
    "plt.legend()\n",
    "plt.xlabel('t')"
   ]
  },
  {
   "cell_type": "code",
   "execution_count": 9,
   "metadata": {
    "collapsed": false
   },
   "outputs": [
    {
     "ename": "NameError",
     "evalue": "name 'solo' is not defined",
     "output_type": "error",
     "traceback": [
      "\u001b[1;31m---------------------------------------------------------------------------\u001b[0m",
      "\u001b[1;31mNameError\u001b[0m                                 Traceback (most recent call last)",
      "\u001b[1;32m<ipython-input-9-8e6e12a02cdc>\u001b[0m in \u001b[0;36m<module>\u001b[1;34m()\u001b[0m\n\u001b[1;32m----> 1\u001b[1;33m \u001b[0msolo\u001b[0m\u001b[1;33m\u001b[0m\u001b[0m\n\u001b[0m",
      "\u001b[1;31mNameError\u001b[0m: name 'solo' is not defined"
     ]
    }
   ],
   "source": [
    "solo"
   ]
  },
  {
   "cell_type": "code",
   "execution_count": 10,
   "metadata": {
    "collapsed": false
   },
   "outputs": [
    {
     "data": {
      "text/plain": [
       "array([[ 0.01      ,  0.1       ],\n",
       "       [ 0.01062028,  0.10652496],\n",
       "       [ 0.01127921,  0.11286333],\n",
       "       ..., \n",
       "       [ 0.01657811, -0.07679824],\n",
       "       [ 0.01608737, -0.08657047],\n",
       "       [ 0.01553885, -0.09603106]])"
      ]
     },
     "execution_count": 10,
     "metadata": {},
     "output_type": "execute_result"
    }
   ],
   "source": [
    "sol"
   ]
  },
  {
   "cell_type": "code",
   "execution_count": 11,
   "metadata": {
    "collapsed": false
   },
   "outputs": [
    {
     "data": {
      "text/plain": [
       "array([ 0.01,  0.1 ])"
      ]
     },
     "execution_count": 11,
     "metadata": {},
     "output_type": "execute_result"
    }
   ],
   "source": [
    "sol[0]"
   ]
  },
  {
   "cell_type": "code",
   "execution_count": 12,
   "metadata": {
    "collapsed": false
   },
   "outputs": [
    {
     "data": {
      "text/plain": [
       "array([  1.00000000e-02,   1.06202792e-02,   1.12792050e-02,\n",
       "         1.19755524e-02,   1.27078920e-02,   1.34745949e-02,\n",
       "         1.42738389e-02,   1.51036149e-02,   1.59617344e-02,\n",
       "         1.68458379e-02,   1.77534034e-02,   1.86817558e-02,\n",
       "         1.96280775e-02,   2.05894181e-02,   2.15627066e-02,\n",
       "         2.25447612e-02,   2.35323033e-02,   2.45219700e-02,\n",
       "         2.55103251e-02,   2.64938729e-02,   2.74690721e-02,\n",
       "         2.84323486e-02,   2.93801097e-02,   3.03087576e-02,\n",
       "         3.12147034e-02,   3.20943806e-02,   3.29442595e-02,\n",
       "         3.37608602e-02,   3.45407664e-02,   3.52806392e-02,\n",
       "         3.59772292e-02,   3.66273902e-02,   3.72280909e-02,\n",
       "         3.77764278e-02,   3.82696359e-02,   3.87051005e-02,\n",
       "         3.90803674e-02,   3.93931533e-02,   3.96413547e-02,\n",
       "         3.98230576e-02,   3.99365447e-02,   3.99803036e-02,\n",
       "         3.99530332e-02,   3.98536495e-02,   3.96812914e-02,\n",
       "         3.94353246e-02,   3.91153454e-02,   3.87211837e-02,\n",
       "         3.82529046e-02,   3.77108096e-02,   3.70954371e-02,\n",
       "         3.64075618e-02,   3.56481929e-02,   3.48185723e-02,\n",
       "         3.39201713e-02,   3.29546865e-02,   3.19240354e-02,\n",
       "         3.08303506e-02,   2.96759736e-02,   2.84634478e-02,\n",
       "         2.71955103e-02,   2.58750840e-02,   2.45052680e-02,\n",
       "         2.30893280e-02,   2.16306850e-02,   2.01329056e-02,\n",
       "         1.85996901e-02,   1.70348599e-02,   1.54423452e-02,\n",
       "         1.38261729e-02,   1.21904521e-02,   1.05393617e-02,\n",
       "         8.87713576e-03,   7.20804987e-03,   5.53640668e-03,\n",
       "         3.86652190e-03,   2.20270982e-03,   5.49268682e-04,\n",
       "        -1.08953345e-03,  -2.70947283e-03,  -4.30638443e-03,\n",
       "        -5.87617577e-03,  -7.41484051e-03,  -8.91847198e-03,\n",
       "        -1.03832761e-02,  -1.18055844e-02,  -1.31818656e-02,\n",
       "        -1.45087382e-02,  -1.57829811e-02,  -1.70015446e-02,\n",
       "        -1.81615606e-02,  -1.92603515e-02,  -2.02954397e-02,\n",
       "        -2.12645557e-02,  -2.21656449e-02,  -2.29968748e-02,\n",
       "        -2.37566406e-02,  -2.44435703e-02,  -2.50565293e-02,\n",
       "        -2.55946233e-02,  -2.60572012e-02,  -2.64438569e-02,\n",
       "        -2.67544299e-02,  -2.69890056e-02,  -2.71479143e-02,\n",
       "        -2.72317298e-02,  -2.72412665e-02,  -2.71775761e-02,\n",
       "        -2.70419435e-02,  -2.68358820e-02,  -2.65611268e-02,\n",
       "        -2.62196292e-02,  -2.58135486e-02,  -2.53452450e-02,\n",
       "        -2.48172697e-02,  -2.42323563e-02,  -2.35934105e-02,\n",
       "        -2.29034992e-02,  -2.21658398e-02,  -2.13837880e-02,\n",
       "        -2.05608258e-02,  -1.97005490e-02,  -1.88066539e-02,\n",
       "        -1.78829243e-02,  -1.69332174e-02,  -1.59614503e-02,\n",
       "        -1.49715858e-02,  -1.39676184e-02,  -1.29535593e-02,\n",
       "        -1.19334230e-02,  -1.09112123e-02,  -9.89090432e-03,\n",
       "        -8.87643615e-03,  -7.87169100e-03,  -6.88048456e-03,\n",
       "        -5.90655128e-03,  -4.95353103e-03,  -4.02495662e-03,\n",
       "        -3.12424134e-03,  -2.25466677e-03,  -1.41937120e-03,\n",
       "        -6.21339027e-04,   1.36609688e-04,   8.51829187e-04,\n",
       "         1.52185719e-03,   2.14442304e-03,   2.71745549e-03,\n",
       "         3.23908986e-03,   3.70767447e-03,   4.12177588e-03,\n",
       "         4.48018317e-03,   4.78191233e-03,   5.02620929e-03,\n",
       "         5.21255180e-03,   5.34065080e-03,   5.41045107e-03,\n",
       "         5.42213074e-03,   5.37610008e-03,   5.27299943e-03,\n",
       "         5.11369629e-03,   4.89928159e-03,   4.63106512e-03,\n",
       "         4.31057020e-03,   3.93952753e-03,   3.51986834e-03,\n",
       "         3.05371676e-03,   2.54338153e-03,   1.99134703e-03,\n",
       "         1.40026357e-03,   7.72937388e-04,   1.12319560e-04,\n",
       "        -5.78504957e-04,  -1.29632947e-03,  -2.03783744e-03,\n",
       "        -2.79961544e-03,  -3.57816582e-03,  -4.36992027e-03,\n",
       "        -5.17125314e-03,  -5.97849533e-03,  -6.78794806e-03,\n",
       "        -7.59589700e-03,  -8.39862622e-03,  -9.19243235e-03,\n",
       "        -9.97363846e-03,  -1.07386081e-02,  -1.14837590e-02,\n",
       "        -1.22055767e-02,  -1.29006275e-02,  -1.35655723e-02,\n",
       "        -1.41971782e-02,  -1.47923316e-02,  -1.53480498e-02,\n",
       "        -1.58614922e-02,  -1.63299714e-02,  -1.67509631e-02,\n",
       "        -1.71221163e-02,  -1.74412619e-02,  -1.77064216e-02,\n",
       "        -1.79158148e-02,  -1.80678664e-02,  -1.81612125e-02,\n",
       "        -1.81947061e-02,  -1.81674217e-02,  -1.80786589e-02,\n",
       "        -1.79279460e-02,  -1.77150414e-02,  -1.74399357e-02,\n",
       "        -1.71028517e-02,  -1.67042445e-02,  -1.62447999e-02,\n",
       "        -1.57254323e-02,  -1.51472822e-02,  -1.45117120e-02,\n",
       "        -1.38203023e-02,  -1.30748458e-02,  -1.22773414e-02,\n",
       "        -1.14299877e-02,  -1.05351749e-02,  -9.59547687e-03,\n",
       "        -8.61364217e-03,  -7.59258419e-03,  -6.53537115e-03,\n",
       "        -5.44521540e-03,  -4.32546180e-03,  -3.17957613e-03,\n",
       "        -2.01113293e-03,  -8.23802511e-04,   3.78661820e-04,\n",
       "         1.59243704e-03,   2.81364427e-03,   4.03836238e-03,\n",
       "         5.26264193e-03,   6.48251948e-03,   7.69403171e-03,\n",
       "         8.89322938e-03,   1.00761916e-02,   1.12390396e-02,\n",
       "         1.23779511e-02,   1.34891740e-02,   1.45690396e-02,\n",
       "         1.56139753e-02,   1.66205188e-02,   1.75853292e-02,\n",
       "         1.85051999e-02,   1.93770695e-02,   2.01980335e-02,\n",
       "         2.09653546e-02,   2.16764721e-02,   2.23290121e-02,\n",
       "         2.29207953e-02,   2.34498453e-02,   2.39143957e-02,\n",
       "         2.43128968e-02,   2.46440209e-02,   2.49066677e-02,\n",
       "         2.50999676e-02,   2.52232861e-02,   2.52762250e-02,\n",
       "         2.52586250e-02,   2.51705658e-02,   2.50123663e-02,\n",
       "         2.47845835e-02,   2.44880107e-02,   2.41236748e-02,\n",
       "         2.36928328e-02,   2.31969678e-02,   2.26377831e-02,\n",
       "         2.20171973e-02,   2.13373368e-02,   2.06005285e-02,\n",
       "         1.98092921e-02,   1.89663309e-02,   1.80745224e-02,\n",
       "         1.71369079e-02,   1.61566825e-02,   1.51371831e-02,\n",
       "         1.40818771e-02,   1.29943501e-02,   1.18782931e-02,\n",
       "         1.07374897e-02,   9.57580258e-03,   8.39715993e-03,\n",
       "         7.20554178e-03,   6.00496552e-03,   4.79947204e-03,\n",
       "         3.59311142e-03,   2.38992866e-03,   1.19394938e-03,\n",
       "         9.16551349e-06,  -1.16047859e-03,  -2.31110011e-03,\n",
       "        -3.43889141e-03,  -4.54013359e-03,  -5.61120953e-03,\n",
       "        -6.64861650e-03,  -7.64897851e-03,  -8.60905816e-03,\n",
       "        -9.52576805e-03,  -1.03961815e-02,  -1.12175428e-02,\n",
       "        -1.19872769e-02,  -1.27029983e-02,  -1.33625193e-02,\n",
       "        -1.39638577e-02,  -1.45052434e-02,  -1.49851250e-02,\n",
       "        -1.54021742e-02,  -1.57552912e-02,  -1.60436076e-02,\n",
       "        -1.62664898e-02,  -1.64235407e-02,  -1.65146009e-02,\n",
       "        -1.65397487e-02,  -1.64993002e-02,  -1.63938074e-02,\n",
       "        -1.62240557e-02,  -1.59910613e-02,  -1.56960669e-02,\n",
       "        -1.53405373e-02,  -1.49261533e-02,  -1.44548061e-02,\n",
       "        -1.39285894e-02,  -1.33497923e-02,  -1.27208906e-02,\n",
       "        -1.20445375e-02,  -1.13235537e-02,  -1.05609170e-02,\n",
       "        -9.75975198e-03,  -8.92331762e-03,  -8.05499588e-03,\n",
       "        -7.15827899e-03,  -6.23675689e-03,  -5.29410405e-03,\n",
       "        -4.33406604e-03,  -3.36044570e-03,  -2.37708891e-03,\n",
       "        -1.38787149e-03,  -3.96684495e-04,   5.92580480e-04,\n",
       "         1.57604443e-03,   2.54985577e-03,   3.51020433e-03,\n",
       "         4.45333498e-03,   5.37556148e-03,   6.27327989e-03,\n",
       "         7.14298158e-03,   7.98126610e-03,   8.78485345e-03,\n",
       "         9.55059609e-03,   1.02754904e-02,   1.09566877e-02,\n",
       "         1.15915040e-02,   1.21774306e-02,   1.27121429e-02,\n",
       "         1.31935085e-02,   1.36195950e-02,   1.39886777e-02,\n",
       "         1.42992450e-02,   1.45500044e-02,   1.47398871e-02,\n",
       "         1.48680515e-02,   1.49338870e-02,   1.49370157e-02,\n",
       "         1.48772935e-02,   1.47548114e-02,   1.45698946e-02,\n",
       "         1.43231014e-02,   1.40152211e-02,   1.36472716e-02,\n",
       "         1.32204953e-02,   1.27363541e-02,   1.21965253e-02,\n",
       "         1.16028947e-02,   1.09575495e-02,   1.02627712e-02,\n",
       "         9.52102759e-03,   8.73496346e-03,   7.90739060e-03,\n",
       "         7.04127780e-03,   6.13974059e-03,   5.20602937e-03,\n",
       "         4.24351780e-03,   3.25569041e-03,   2.24613019e-03,\n",
       "         1.21850527e-03,   1.76555874e-04,  -8.75919540e-04,\n",
       "        -1.93507781e-03,  -2.99704532e-03,  -4.05793171e-03,\n",
       "        -5.11384457e-03,  -6.16090342e-03,  -7.19525309e-03,\n",
       "        -8.21307907e-03,  -9.21062015e-03,  -1.01841829e-02,\n",
       "        -1.11301550e-02,  -1.20450179e-02,  -1.29253606e-02,\n",
       "        -1.37678910e-02,  -1.45694486e-02,  -1.53270162e-02,\n",
       "        -1.60377301e-02,  -1.66988916e-02,  -1.73079761e-02,\n",
       "        -1.78626424e-02,  -1.83607423e-02,  -1.88003269e-02,\n",
       "        -1.91796550e-02,  -1.94971990e-02,  -1.97516510e-02,\n",
       "        -1.99419272e-02,  -2.00671720e-02,  -2.01267616e-02,\n",
       "        -2.01203063e-02,  -2.00476517e-02,  -1.99088799e-02,\n",
       "        -1.97043089e-02,  -1.94344922e-02,  -1.91002164e-02,\n",
       "        -1.87024987e-02,  -1.82425836e-02,  -1.77219382e-02,\n",
       "        -1.71422476e-02,  -1.65054084e-02,  -1.58135222e-02,\n",
       "        -1.50688879e-02,  -1.42739944e-02,  -1.34315112e-02,\n",
       "        -1.25442790e-02,  -1.16152993e-02,  -1.06477246e-02,\n",
       "        -9.64484587e-03,  -8.61008187e-03,  -7.54696649e-03,\n",
       "        -6.45913651e-03,  -5.35031846e-03,  -4.22431501e-03,\n",
       "        -3.08499152e-03,  -1.93626254e-03,  -7.82077654e-04,\n",
       "         3.73592711e-04,   1.52677149e-03,   2.67348914e-03,\n",
       "         3.80979782e-03,   4.93178554e-03,   6.03559016e-03,\n",
       "         7.11741321e-03,   8.17353346e-03,   9.20032026e-03,\n",
       "         1.01942465e-02,   1.11519013e-02,   1.20700021e-02,\n",
       "         1.29454065e-02,   1.37751233e-02,   1.45563235e-02,\n",
       "         1.52863505e-02,   1.59627290e-02,   1.65831744e-02,\n",
       "         1.71456005e-02,   1.76481280e-02,   1.80890898e-02,\n",
       "         1.84670374e-02,   1.87807468e-02,   1.90292223e-02,\n",
       "         1.92116997e-02,   1.93276492e-02,   1.93767780e-02,\n",
       "         1.93590306e-02,   1.92745884e-02,   1.91238699e-02,\n",
       "         1.89075299e-02,   1.86264550e-02,   1.82817617e-02,\n",
       "         1.78747922e-02,   1.74071100e-02,   1.68804933e-02,\n",
       "         1.62969282e-02,   1.56586033e-02,   1.49679008e-02,\n",
       "         1.42273878e-02,   1.34398072e-02,   1.26080672e-02,\n",
       "         1.17352313e-02,   1.08245078e-02,   9.87923769e-03,\n",
       "         8.90288257e-03,   7.89901220e-03,   6.87129160e-03,\n",
       "         5.82346795e-03,   4.75935724e-03,   3.68283026e-03,\n",
       "         2.59779878e-03,   1.50820150e-03,   4.17989762e-04,\n",
       "        -6.68886577e-04,  -1.74849334e-03,  -2.81692625e-03,\n",
       "        -3.87032496e-03,  -4.90488691e-03,  -5.91688101e-03,\n",
       "        -6.90266107e-03,  -7.85867888e-03,  -8.78149693e-03,\n",
       "        -9.66780085e-03,  -1.05144113e-02,  -1.13182952e-02,\n",
       "        -1.20765770e-02,  -1.27865484e-02,  -1.34456789e-02,\n",
       "        -1.40516238e-02,  -1.46022337e-02,  -1.50955613e-02,\n",
       "        -1.55298690e-02,  -1.59036345e-02,  -1.62155569e-02,\n",
       "        -1.64645608e-02,  -1.66498001e-02,  -1.67706616e-02,\n",
       "        -1.68267665e-02,  -1.68179720e-02,  -1.67443715e-02,\n",
       "        -1.66062940e-02,  -1.64043039e-02,  -1.61391979e-02,\n",
       "        -1.58120020e-02,  -1.54239685e-02,  -1.49765709e-02,\n",
       "        -1.44714982e-02,  -1.39106496e-02,  -1.32961269e-02,\n",
       "        -1.26302268e-02,  -1.19154331e-02,  -1.11544072e-02,\n",
       "        -1.03499785e-02,  -9.50513418e-03,  -8.62300847e-03,\n",
       "        -7.70687104e-03,  -6.76011535e-03,  -5.78624609e-03,\n",
       "        -4.78886676e-03,  -3.77166643e-03,  -2.73840613e-03,\n",
       "        -1.69290550e-03,  -6.39029276e-04,   4.19327387e-04,\n",
       "         1.47825284e-03,   2.53383278e-03,   3.58216477e-03,\n",
       "         4.61937241e-03,   5.64161926e-03,   6.64512260e-03,\n",
       "         7.62616742e-03,   8.58111977e-03,   9.50643991e-03,\n",
       "         1.03986952e-02,   1.12545724e-02,   1.20708899e-02,\n",
       "         1.28446091e-02,   1.35728456e-02,   1.42528793e-02,\n",
       "         1.48821647e-02,   1.54583400e-02,   1.59792354e-02,\n",
       "         1.64428813e-02,   1.68475157e-02,   1.71915898e-02,\n",
       "         1.74737741e-02,   1.76929638e-02,   1.78482819e-02,\n",
       "         1.79390827e-02,   1.79649546e-02,   1.79257214e-02,\n",
       "         1.78214424e-02,   1.76524129e-02,   1.74191635e-02,\n",
       "         1.71224573e-02,   1.67632873e-02,   1.63428740e-02,\n",
       "         1.58626597e-02,   1.53243038e-02,   1.47296770e-02,\n",
       "         1.40808548e-02,   1.33801093e-02,   1.26299014e-02,\n",
       "         1.18328726e-02,   1.09918346e-02,   1.01097592e-02,\n",
       "         9.18976802e-03,   8.23512167e-03,   7.24920734e-03,\n",
       "         6.23552654e-03,   5.19768251e-03,   4.13936789e-03,\n",
       "         3.06435076e-03,   1.97646140e-03,   8.79578204e-04,\n",
       "        -2.22386023e-04,  -1.32549826e-03,  -2.42581957e-03,\n",
       "        -3.51941899e-03,  -4.60238819e-03,  -5.67085493e-03,\n",
       "        -6.72099773e-03,  -7.74905896e-03,  -8.75135897e-03,\n",
       "        -9.72430896e-03,  -1.06644241e-02,  -1.15683363e-02,\n",
       "        -1.24328057e-02,  -1.32547333e-02,  -1.40311712e-02,\n",
       "        -1.47593341e-02,  -1.54366086e-02,  -1.60605633e-02,\n",
       "        -1.66289570e-02,  -1.71397472e-02,  -1.75910973e-02,\n",
       "        -1.79813833e-02,  -1.83091997e-02,  -1.85733644e-02,\n",
       "        -1.87729234e-02,  -1.89071538e-02,  -1.89755667e-02,\n",
       "        -1.89779087e-02,  -1.89141634e-02,  -1.87845509e-02,\n",
       "        -1.85895273e-02,  -1.83297831e-02,  -1.80062405e-02,\n",
       "        -1.76200506e-02,  -1.71725887e-02,  -1.66654498e-02,\n",
       "        -1.61004426e-02,  -1.54795831e-02,  -1.48050875e-02,\n",
       "        -1.40793641e-02,  -1.33050049e-02,  -1.24847756e-02,\n",
       "        -1.16216060e-02,  -1.07185800e-02,  -9.77892420e-03,\n",
       "        -8.80599581e-03,  -7.80327110e-03,  -6.77433292e-03,\n",
       "        -5.72285759e-03,  -4.65260177e-03,  -3.56738894e-03,\n",
       "        -2.47109563e-03,  -1.36763734e-03,  -2.60954745e-04,\n",
       "         8.45000524e-04,   1.94628037e-03,   3.03895428e-03,\n",
       "         4.11912319e-03,   5.18293390e-03,   6.22659279e-03,\n",
       "         7.24637939e-03,   8.23865984e-03,   9.19989994e-03,\n",
       "         1.01266778e-02,   1.10156964e-02,   1.18637949e-02,\n",
       "         1.26679607e-02,   1.34253396e-02,   1.41332466e-02,\n",
       "         1.47891752e-02,   1.53908063e-02,   1.59360172e-02,\n",
       "         1.64228885e-02,   1.68497111e-02,   1.72149927e-02,\n",
       "         1.75174629e-02,   1.77560777e-02,   1.79300235e-02,\n",
       "         1.80387195e-02,   1.80818203e-02,   1.80592168e-02,\n",
       "         1.79710366e-02,   1.78176435e-02,   1.75996365e-02,\n",
       "         1.73178470e-02,   1.69733363e-02,   1.65673913e-02,\n",
       "         1.61015204e-02,   1.55774475e-02,   1.49971058e-02,\n",
       "         1.43626314e-02,   1.36763546e-02,   1.29407925e-02,\n",
       "         1.21586390e-02,   1.13327559e-02,   1.04661616e-02,\n",
       "         9.56202103e-03,   8.62363398e-03,   7.65442288e-03,\n",
       "         6.65792072e-03,   5.63775831e-03,   4.59765109e-03,\n",
       "         3.54138557e-03,   2.47280586e-03,   1.39579981e-03,\n",
       "         3.14284913e-04,  -7.67806059e-04,  -1.84653892e-03,\n",
       "        -2.91799235e-03,  -3.97827204e-03,  -5.02352507e-03,\n",
       "        -6.04995339e-03,  -7.05382761e-03,  -8.03150054e-03,\n",
       "        -8.97942057e-03,  -9.89414411e-03,  -1.07723480e-02,\n",
       "        -1.16108419e-02,  -1.24065797e-02,  -1.31566699e-02,\n",
       "        -1.38583869e-02,  -1.45091804e-02,  -1.51066846e-02,\n",
       "        -1.56487268e-02,  -1.61333352e-02,  -1.65587458e-02,\n",
       "        -1.69234096e-02,  -1.72259974e-02,  -1.74654042e-02,\n",
       "        -1.76407543e-02,  -1.77514040e-02,  -1.77969434e-02,\n",
       "        -1.77771987e-02,  -1.76922321e-02,  -1.75423423e-02,\n",
       "        -1.73280625e-02,  -1.70501596e-02,  -1.67096303e-02,\n",
       "        -1.63076983e-02,  -1.58458096e-02,  -1.53256271e-02,\n",
       "        -1.47490248e-02,  -1.41180813e-02,  -1.34350717e-02,\n",
       "        -1.27024597e-02,  -1.19228888e-02,  -1.10991726e-02,\n",
       "        -1.02342847e-02,  -9.33134804e-03,  -8.39362331e-03,\n",
       "        -7.42449764e-03,  -6.42747200e-03,  -5.40614882e-03,\n",
       "        -4.36421879e-03,  -3.30544787e-03,  -2.23366294e-03,\n",
       "        -1.15273862e-03,  -6.65836876e-05,   1.02087443e-03,\n",
       "         2.10570229e-03,   3.18397539e-03,   4.25179296e-03,\n",
       "         5.30529029e-03,   6.34065445e-03,   7.35413749e-03,\n",
       "         8.34206898e-03,   9.30087109e-03,   1.02270700e-02,\n",
       "         1.11173089e-02,   1.19683608e-02,   1.27771389e-02,\n",
       "         1.35407085e-02,   1.42562983e-02,   1.49213087e-02,\n",
       "         1.55333224e-02,   1.60901128e-02,   1.65896524e-02,\n",
       "         1.70301198e-02,   1.74099060e-02,   1.77276208e-02,\n",
       "         1.79820974e-02,   1.81723971e-02,   1.82978121e-02,\n",
       "         1.83578684e-02,   1.83523278e-02,   1.82811881e-02,\n",
       "         1.81446838e-02,   1.79432847e-02,   1.76776947e-02,\n",
       "         1.73488492e-02,   1.69579112e-02,   1.65062680e-02,\n",
       "         1.59955254e-02,   1.54275027e-02,   1.48042254e-02,\n",
       "         1.41279180e-02,   1.34009968e-02,   1.26260604e-02,\n",
       "         1.18058807e-02,   1.09433926e-02,   1.00416841e-02,\n",
       "         9.10398436e-03,   8.13365228e-03,   7.13416503e-03,\n",
       "         6.10910485e-03,   5.06214615e-03,   3.99704276e-03,\n",
       "         2.91761407e-03,   1.82773116e-03,   7.31303144e-04,\n",
       "        -3.67736988e-04,  -1.46544672e-03,  -2.55788808e-03,\n",
       "        -3.64114171e-03,  -4.71132123e-03,  -5.76458715e-03,\n",
       "        -6.79716055e-03,  -7.80533695e-03,  -8.78549953e-03,\n",
       "        -9.73413225e-03,  -1.06478324e-02,  -1.15233227e-02,\n",
       "        -1.23574635e-02,  -1.31472635e-02,  -1.38898915e-02,\n",
       "        -1.45826860e-02,  -1.52231645e-02,  -1.58090329e-02,\n",
       "        -1.63381936e-02,  -1.68087536e-02,  -1.72190301e-02,\n",
       "        -1.75675573e-02,  -1.78530922e-02,  -1.80746182e-02,\n",
       "        -1.82313494e-02,  -1.83227326e-02,  -1.83484503e-02,\n",
       "        -1.83084212e-02,  -1.82028006e-02,  -1.80319798e-02,\n",
       "        -1.77965850e-02,  -1.74974748e-02,  -1.71357370e-02,\n",
       "        -1.67126848e-02,  -1.62298522e-02,  -1.56889881e-02,\n",
       "        -1.50920504e-02,  -1.44411988e-02,  -1.37387867e-02,\n",
       "        -1.29873532e-02,  -1.21896138e-02,  -1.13484503e-02,\n",
       "        -1.04669009e-02,  -9.54814884e-03,  -8.59551106e-03,\n",
       "        -7.61242635e-03,  -6.60244288e-03,  -5.56920522e-03,\n",
       "        -4.51644148e-03,  -3.44794979e-03,  -2.36758466e-03,\n",
       "        -1.27924275e-03,  -1.86849172e-04,   9.05656688e-04,\n",
       "         1.99433534e-03,   3.07526176e-03,   4.14453924e-03,\n",
       "         5.19831329e-03,   6.23278564e-03,   7.24422826e-03,\n",
       "         8.22899655e-03,   9.18354229e-03,   1.01044265e-02,\n",
       "         1.09883321e-02,   1.18320760e-02,   1.26326198e-02,\n",
       "         1.33870812e-02,   1.40927445e-02,   1.47470706e-02,\n",
       "         1.53477057e-02,   1.58924899e-02,   1.63794648e-02,\n",
       "         1.68068807e-02,   1.71732031e-02,   1.74771184e-02,\n",
       "         1.77175378e-02,   1.78936020e-02,   1.80046839e-02,\n",
       "         1.80503911e-02,   1.80305669e-02,   1.79452915e-02,\n",
       "         1.77948810e-02,   1.75798869e-02,   1.73010935e-02,\n",
       "         1.69595155e-02,   1.65563940e-02,   1.60931926e-02,\n",
       "         1.55715914e-02,   1.49934811e-02,   1.43609566e-02,\n",
       "         1.36763092e-02,   1.29420180e-02,   1.21607415e-02,\n",
       "         1.13353075e-02,   1.04687033e-02,   9.56406468e-03,\n",
       "         8.62466464e-03,   7.65390167e-03,   6.65528733e-03,\n",
       "         5.63243373e-03,   4.58904039e-03,   3.52888096e-03,\n",
       "         2.45578956e-03,   1.37364695e-03,   2.86366597e-04,\n",
       "        -8.02119646e-04,  -1.88787537e-03,  -2.96697429e-03,\n",
       "        -4.03551386e-03,  -5.08962994e-03,  -6.12551015e-03,\n",
       "        -7.13940819e-03,  -8.12765686e-03,  -9.08668168e-03,\n",
       "        -1.00130135e-02,  -1.09033012e-02,  -1.17543238e-02,\n",
       "        -1.25630018e-02,  -1.33264087e-02,  -1.40417811e-02,\n",
       "        -1.47065293e-02,  -1.53182459e-02,  -1.58747152e-02,\n",
       "        -1.63739206e-02,  -1.68140521e-02,  -1.71935131e-02,\n",
       "        -1.75109257e-02,  -1.77651361e-02,  -1.79552183e-02,\n",
       "        -1.80804780e-02,  -1.81404546e-02,  -1.81349233e-02,\n",
       "        -1.80638954e-02,  -1.79276189e-02,  -1.77265769e-02,\n",
       "        -1.74614866e-02,  -1.71332962e-02,  -1.67431816e-02,\n",
       "        -1.62925422e-02,  -1.57829960e-02,  -1.52163733e-02,\n",
       "        -1.45947104e-02,  -1.39202428e-02,  -1.31953962e-02,\n",
       "        -1.24227783e-02,  -1.16051694e-02,  -1.07455121e-02,\n",
       "        -9.84690068e-03,  -8.91257054e-03,  -7.94588582e-03,\n",
       "        -6.95032745e-03,  -5.92948100e-03,  -4.88702328e-03,\n",
       "        -3.82670913e-03,  -2.75235824e-03,  -1.66784104e-03,\n",
       "        -5.77064747e-04,   5.16040517e-04,   1.60753601e-03,\n",
       "         2.69348867e-03,   3.76998512e-03,   4.83314587e-03,\n",
       "         5.87913936e-03,   6.90419580e-03,   7.90462061e-03,\n",
       "         8.87680779e-03,   9.81725287e-03,   1.07225655e-02,\n",
       "         1.15894822e-02,   1.24148777e-02,   1.31957761e-02,\n",
       "         1.39293616e-02,   1.46129892e-02,   1.52441938e-02,\n",
       "         1.58206988e-02,   1.63404248e-02,   1.68014971e-02,\n",
       "         1.72022524e-02,   1.75412446e-02,   1.78172500e-02,\n",
       "         1.80292721e-02,   1.81765448e-02,   1.82585354e-02,\n",
       "         1.82749463e-02,   1.82257164e-02,   1.81110212e-02,\n",
       "         1.79312718e-02,   1.76871141e-02,   1.73794258e-02,\n",
       "         1.70093139e-02,   1.65781100e-02,   1.60873660e-02,\n",
       "         1.55388484e-02])"
      ]
     },
     "execution_count": 12,
     "metadata": {},
     "output_type": "execute_result"
    }
   ],
   "source": [
    "sol[:,0]"
   ]
  },
  {
   "cell_type": "code",
   "execution_count": null,
   "metadata": {
    "collapsed": true
   },
   "outputs": [],
   "source": []
  }
 ],
 "metadata": {
  "anaconda-cloud": {},
  "kernelspec": {
   "display_name": "Python [Root]",
   "language": "python",
   "name": "Python [Root]"
  },
  "language_info": {
   "codemirror_mode": {
    "name": "ipython",
    "version": 3
   },
   "file_extension": ".py",
   "mimetype": "text/x-python",
   "name": "python",
   "nbconvert_exporter": "python",
   "pygments_lexer": "ipython3",
   "version": "3.5.2"
  }
 },
 "nbformat": 4,
 "nbformat_minor": 0
}
